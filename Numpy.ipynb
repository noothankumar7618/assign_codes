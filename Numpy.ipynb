{
  "nbformat": 4,
  "nbformat_minor": 0,
  "metadata": {
    "colab": {
      "name": "Numpy.ipynb",
      "provenance": [],
      "authorship_tag": "ABX9TyMe870j5P9RF40ELXACPn/n",
      "include_colab_link": true
    },
    "kernelspec": {
      "name": "python3",
      "display_name": "Python 3"
    },
    "language_info": {
      "name": "python"
    }
  },
  "cells": [
    {
      "cell_type": "markdown",
      "metadata": {
        "id": "view-in-github",
        "colab_type": "text"
      },
      "source": [
        "<a href=\"https://colab.research.google.com/github/noothankumar7618/assign_codes/blob/main/Numpy.ipynb\" target=\"_parent\"><img src=\"https://colab.research.google.com/assets/colab-badge.svg\" alt=\"Open In Colab\"/></a>"
      ]
    },
    {
      "cell_type": "markdown",
      "metadata": {
        "id": "RXlJta9kOjDH"
      },
      "source": [
        "Numpy - Numerical Python\n",
        "1. Allows several Mathematical operations.\n",
        "2. Faster Operations."
      ]
    },
    {
      "cell_type": "code",
      "metadata": {
        "id": "SUElCLUaPJlE"
      },
      "source": [
        "# importing numpy library\n",
        "import numpy as np           \n"
      ],
      "execution_count": 3,
      "outputs": []
    },
    {
      "cell_type": "markdown",
      "metadata": {
        "id": "1YuCDK6jPzEU"
      },
      "source": [
        "List v/s Numpy - Time taken"
      ]
    },
    {
      "cell_type": "code",
      "metadata": {
        "id": "lQF4dlqtPScy"
      },
      "source": [
        "# time is a library\n",
        "from time import process_time"
      ],
      "execution_count": 4,
      "outputs": []
    },
    {
      "cell_type": "markdown",
      "metadata": {
        "id": "0rPYVvvIQKRm"
      },
      "source": [
        "Time taken by a list\n"
      ]
    },
    {
      "cell_type": "code",
      "metadata": {
        "colab": {
          "base_uri": "https://localhost:8080/"
        },
        "id": "w0rtPKmKQF5o",
        "outputId": "3d0d1ece-5490-4638-8848-08c912592e2a"
      },
      "source": [
        "python_list=[i for i in range(10000)]\n",
        "\n",
        "start_time=process_time()\n",
        "\n",
        "python_list=[i+5 for i in python_list]\n",
        "\n",
        "end_time=process_time()\n",
        "\n",
        "print(end_time - start_time)"
      ],
      "execution_count": 5,
      "outputs": [
        {
          "output_type": "stream",
          "text": [
            "0.0007146909999999895\n"
          ],
          "name": "stdout"
        }
      ]
    },
    {
      "cell_type": "markdown",
      "metadata": {
        "id": "AUVWosaDRWXd"
      },
      "source": [
        "Time taken by a Numpy\n"
      ]
    },
    {
      "cell_type": "code",
      "metadata": {
        "colab": {
          "base_uri": "https://localhost:8080/"
        },
        "id": "hmGheFBZRcc8",
        "outputId": "ad9bc119-25f7-4130-e346-6a12709f7e4a"
      },
      "source": [
        "np_array=np.array([i for i in range(10000)])\n",
        "\n",
        "start_time=process_time()\n",
        "\n",
        "np_array+=5\n",
        "\n",
        "end_time=process_time()\n",
        "\n",
        "print(end_time - start_time)"
      ],
      "execution_count": 6,
      "outputs": [
        {
          "output_type": "stream",
          "text": [
            "0.0002566389999998364\n"
          ],
          "name": "stdout"
        }
      ]
    },
    {
      "cell_type": "markdown",
      "metadata": {
        "id": "5gChuF1bSWff"
      },
      "source": [
        "Numpy Arrays"
      ]
    },
    {
      "cell_type": "code",
      "metadata": {
        "colab": {
          "base_uri": "https://localhost:8080/"
        },
        "id": "iEiaJARSTI4D",
        "outputId": "037806df-879b-4fef-9d46-7c75cd071cf6"
      },
      "source": [
        "#list\n",
        "list1=[1,2,3,4,5]\n",
        "print(list1)\n",
        "type(list1)"
      ],
      "execution_count": 7,
      "outputs": [
        {
          "output_type": "stream",
          "text": [
            "[1, 2, 3, 4, 5]\n"
          ],
          "name": "stdout"
        },
        {
          "output_type": "execute_result",
          "data": {
            "text/plain": [
              "list"
            ]
          },
          "metadata": {
            "tags": []
          },
          "execution_count": 7
        }
      ]
    },
    {
      "cell_type": "code",
      "metadata": {
        "colab": {
          "base_uri": "https://localhost:8080/"
        },
        "id": "ixTTDDjLTQp7",
        "outputId": "b46a50d6-f376-484a-e01e-2313977c02b6"
      },
      "source": [
        "np_array=np.array([1,2,3,4,5])\n",
        "print(np_array)\n",
        "type(np_array)"
      ],
      "execution_count": 9,
      "outputs": [
        {
          "output_type": "stream",
          "text": [
            "[1 2 3 4 5]\n"
          ],
          "name": "stdout"
        },
        {
          "output_type": "execute_result",
          "data": {
            "text/plain": [
              "numpy.ndarray"
            ]
          },
          "metadata": {
            "tags": []
          },
          "execution_count": 9
        }
      ]
    },
    {
      "cell_type": "code",
      "metadata": {
        "colab": {
          "base_uri": "https://localhost:8080/"
        },
        "id": "517HromVTeWO",
        "outputId": "3698e66a-9874-414c-8ec8-3ddc35b0ef1c"
      },
      "source": [
        "#creating a 1 dimentional array\n",
        "a=np.array([1,2,3,4,5])\n",
        "print(a)"
      ],
      "execution_count": 11,
      "outputs": [
        {
          "output_type": "stream",
          "text": [
            "[1 2 3 4 5]\n"
          ],
          "name": "stdout"
        }
      ]
    },
    {
      "cell_type": "code",
      "metadata": {
        "colab": {
          "base_uri": "https://localhost:8080/"
        },
        "id": "422CZDqYT3v_",
        "outputId": "c90d4be9-6e62-4297-bb6d-b8f6bbcfd917"
      },
      "source": [
        "#Number of columns\n",
        "a.shape"
      ],
      "execution_count": 12,
      "outputs": [
        {
          "output_type": "execute_result",
          "data": {
            "text/plain": [
              "(5,)"
            ]
          },
          "metadata": {
            "tags": []
          },
          "execution_count": 12
        }
      ]
    },
    {
      "cell_type": "code",
      "metadata": {
        "colab": {
          "base_uri": "https://localhost:8080/"
        },
        "id": "xglOmUw6UB0A",
        "outputId": "179b2b34-0590-4ff6-ee7e-1e417fd1badc"
      },
      "source": [
        "#creating a 2 dimentional array\n",
        "b=np.array([(1,2,3,4),(7,8,9,10)])\n",
        "print(b)"
      ],
      "execution_count": 15,
      "outputs": [
        {
          "output_type": "stream",
          "text": [
            "[[ 1  2  3  4]\n",
            " [ 7  8  9 10]]\n"
          ],
          "name": "stdout"
        }
      ]
    },
    {
      "cell_type": "code",
      "metadata": {
        "colab": {
          "base_uri": "https://localhost:8080/"
        },
        "id": "4-9x5psIUTSW",
        "outputId": "079c99e6-1791-454d-9308-e21da97d4ed5"
      },
      "source": [
        "#Number of Rows and columns\n",
        "b.shape"
      ],
      "execution_count": 17,
      "outputs": [
        {
          "output_type": "execute_result",
          "data": {
            "text/plain": [
              "(2, 4)"
            ]
          },
          "metadata": {
            "tags": []
          },
          "execution_count": 17
        }
      ]
    },
    {
      "cell_type": "code",
      "metadata": {
        "colab": {
          "base_uri": "https://localhost:8080/"
        },
        "id": "RdvWfR2WU9oW",
        "outputId": "60aa7161-2de4-4e9a-b014-ba0e653fa768"
      },
      "source": [
        "#creating a 2 dimentional array with float\n",
        "c=np.array([(1,2,3,4),(7,8,9,10)], dtype=float)\n",
        "print(c)"
      ],
      "execution_count": 19,
      "outputs": [
        {
          "output_type": "stream",
          "text": [
            "[[ 1.  2.  3.  4.]\n",
            " [ 7.  8.  9. 10.]]\n"
          ],
          "name": "stdout"
        }
      ]
    },
    {
      "cell_type": "markdown",
      "metadata": {
        "id": "gU0HxP9nVQni"
      },
      "source": [
        "Initial Placeholders in Numpy Array\n"
      ]
    },
    {
      "cell_type": "code",
      "metadata": {
        "colab": {
          "base_uri": "https://localhost:8080/"
        },
        "id": "7iTdLQ5ZVDx4",
        "outputId": "9863fc82-d591-412b-e3e8-c6df57a7b2f4"
      },
      "source": [
        "#Creating a numpy array of Zeros\n",
        "x=np.zeros((4,6))\n",
        "print(x)"
      ],
      "execution_count": 20,
      "outputs": [
        {
          "output_type": "stream",
          "text": [
            "[[0. 0. 0. 0. 0. 0.]\n",
            " [0. 0. 0. 0. 0. 0.]\n",
            " [0. 0. 0. 0. 0. 0.]\n",
            " [0. 0. 0. 0. 0. 0.]]\n"
          ],
          "name": "stdout"
        }
      ]
    },
    {
      "cell_type": "code",
      "metadata": {
        "colab": {
          "base_uri": "https://localhost:8080/"
        },
        "id": "r7XfPSJhWMnf",
        "outputId": "2a33fb72-747d-4024-faa3-4aa1f7efcf60"
      },
      "source": [
        "#Creating a numpy array of Ones\n",
        "y=np.ones((4,6))\n",
        "print(y)"
      ],
      "execution_count": 21,
      "outputs": [
        {
          "output_type": "stream",
          "text": [
            "[[1. 1. 1. 1. 1. 1.]\n",
            " [1. 1. 1. 1. 1. 1.]\n",
            " [1. 1. 1. 1. 1. 1.]\n",
            " [1. 1. 1. 1. 1. 1.]]\n"
          ],
          "name": "stdout"
        }
      ]
    },
    {
      "cell_type": "code",
      "metadata": {
        "colab": {
          "base_uri": "https://localhost:8080/"
        },
        "id": "1_3VV2h-WTq1",
        "outputId": "62ab4921-9dc1-4797-f593-a78f9c9df17f"
      },
      "source": [
        "#creating a particular value\n",
        "z=np.full((4,6),5)\n",
        "print(z)"
      ],
      "execution_count": 22,
      "outputs": [
        {
          "output_type": "stream",
          "text": [
            "[[5 5 5 5 5 5]\n",
            " [5 5 5 5 5 5]\n",
            " [5 5 5 5 5 5]\n",
            " [5 5 5 5 5 5]]\n"
          ],
          "name": "stdout"
        }
      ]
    },
    {
      "cell_type": "code",
      "metadata": {
        "colab": {
          "base_uri": "https://localhost:8080/"
        },
        "id": "EFVudTJ1Wn-G",
        "outputId": "9e7c9b42-5345-4703-aafa-9bffa4b923bd"
      },
      "source": [
        "#Creating an identity matrix\n",
        "p=np.eye(5)\n",
        "print(p)"
      ],
      "execution_count": 23,
      "outputs": [
        {
          "output_type": "stream",
          "text": [
            "[[1. 0. 0. 0. 0.]\n",
            " [0. 1. 0. 0. 0.]\n",
            " [0. 0. 1. 0. 0.]\n",
            " [0. 0. 0. 1. 0.]\n",
            " [0. 0. 0. 0. 1.]]\n"
          ],
          "name": "stdout"
        }
      ]
    },
    {
      "cell_type": "code",
      "metadata": {
        "colab": {
          "base_uri": "https://localhost:8080/"
        },
        "id": "M1seKwieXJXX",
        "outputId": "b3da8256-3444-40b2-870a-c6eb430d4296"
      },
      "source": [
        "#Create a numpy array with random values\n",
        "q=np.random.random((3,4))\n",
        "print(q)"
      ],
      "execution_count": 24,
      "outputs": [
        {
          "output_type": "stream",
          "text": [
            "[[0.71764889 0.36378493 0.87413703 0.17072031]\n",
            " [0.96163143 0.81095622 0.77457035 0.77140894]\n",
            " [0.22172929 0.31072906 0.35713784 0.66823995]]\n"
          ],
          "name": "stdout"
        }
      ]
    },
    {
      "cell_type": "code",
      "metadata": {
        "colab": {
          "base_uri": "https://localhost:8080/"
        },
        "id": "V6UuIS1uXpd1",
        "outputId": "e98551de-81b9-41e4-f8f4-352ce80dcf27"
      },
      "source": [
        "# random integer values array within a specific range\n",
        "r=np.random.randint(10,100,(3,5))\n",
        "print(r)"
      ],
      "execution_count": 28,
      "outputs": [
        {
          "output_type": "stream",
          "text": [
            "[[84 11 67 82 81]\n",
            " [25 42 91 59 42]\n",
            " [77 62 78 55 46]]\n"
          ],
          "name": "stdout"
        }
      ]
    },
    {
      "cell_type": "code",
      "metadata": {
        "colab": {
          "base_uri": "https://localhost:8080/"
        },
        "id": "JUboCN5SYMQ_",
        "outputId": "f8cb3191-46a2-4b25-a37e-9b74ec964f74"
      },
      "source": [
        "#array of evenly spaced values -->specifying number of values required\n",
        "d=np.linspace(10,30,5)\n",
        "print(d)"
      ],
      "execution_count": 29,
      "outputs": [
        {
          "output_type": "stream",
          "text": [
            "[10. 15. 20. 25. 30.]\n"
          ],
          "name": "stdout"
        }
      ]
    },
    {
      "cell_type": "code",
      "metadata": {
        "colab": {
          "base_uri": "https://localhost:8080/"
        },
        "id": "LJPYxwsJZvVt",
        "outputId": "b216f216-19b4-4e58-8f1d-ddb2c9ca77aa"
      },
      "source": [
        "#array of evenly spaced values -->specifying the step\n",
        "d=np.arange(10,30,5)\n",
        "print(d)"
      ],
      "execution_count": 31,
      "outputs": [
        {
          "output_type": "stream",
          "text": [
            "[10 15 20 25]\n"
          ],
          "name": "stdout"
        }
      ]
    },
    {
      "cell_type": "code",
      "metadata": {
        "colab": {
          "base_uri": "https://localhost:8080/"
        },
        "id": "xPLYfOFlaOSx",
        "outputId": "5369244a-4d53-4edf-cfa4-a30f87ccf0c3"
      },
      "source": [
        "#Convert a list to a numpy array\n",
        "list2=[1,4,6,8,4,9]\n",
        "\n",
        "np_array=np.asarray(list2)\n",
        "print(np_array)\n",
        "type(np_array)"
      ],
      "execution_count": 32,
      "outputs": [
        {
          "output_type": "stream",
          "text": [
            "[1 4 6 8 4 9]\n"
          ],
          "name": "stdout"
        },
        {
          "output_type": "execute_result",
          "data": {
            "text/plain": [
              "numpy.ndarray"
            ]
          },
          "metadata": {
            "tags": []
          },
          "execution_count": 32
        }
      ]
    },
    {
      "cell_type": "code",
      "metadata": {
        "colab": {
          "base_uri": "https://localhost:8080/"
        },
        "id": "hm9fwU6kaxs_",
        "outputId": "3c2e72cb-d36a-4fa3-c269-fb569ee44951"
      },
      "source": [
        "#Convert a tuple to a numpy array\n",
        "tuple=(1,4,6,8,4,9)\n",
        "\n",
        "np_array=np.asarray(tuple)\n",
        "print(np_array)\n",
        "type(np_array)"
      ],
      "execution_count": 34,
      "outputs": [
        {
          "output_type": "stream",
          "text": [
            "[1 4 6 8 4 9]\n"
          ],
          "name": "stdout"
        },
        {
          "output_type": "execute_result",
          "data": {
            "text/plain": [
              "numpy.ndarray"
            ]
          },
          "metadata": {
            "tags": []
          },
          "execution_count": 34
        }
      ]
    },
    {
      "cell_type": "markdown",
      "metadata": {
        "id": "5hZrCgeBbLvE"
      },
      "source": [
        "Analysing a Numpy array\n"
      ]
    },
    {
      "cell_type": "code",
      "metadata": {
        "colab": {
          "base_uri": "https://localhost:8080/"
        },
        "id": "_hrOrxx7bfoL",
        "outputId": "b0b2b588-571f-43af-afea-2663dda91a87"
      },
      "source": [
        "c=np.random.randint(10,100,(4,5))\n",
        "print(c)"
      ],
      "execution_count": 9,
      "outputs": [
        {
          "output_type": "stream",
          "text": [
            "[[91 91 73 77 91]\n",
            " [66 42 52 83 35]\n",
            " [44 29 81 12 25]\n",
            " [71 27 21 33 68]]\n"
          ],
          "name": "stdout"
        }
      ]
    },
    {
      "cell_type": "code",
      "metadata": {
        "colab": {
          "base_uri": "https://localhost:8080/"
        },
        "id": "L_G3bJMbbkyr",
        "outputId": "f8cc81b4-e30e-4650-d722-939850406703"
      },
      "source": [
        "#array dimension\n",
        "print(c.shape)"
      ],
      "execution_count": 39,
      "outputs": [
        {
          "output_type": "stream",
          "text": [
            "(4, 5)\n"
          ],
          "name": "stdout"
        }
      ]
    },
    {
      "cell_type": "code",
      "metadata": {
        "colab": {
          "base_uri": "https://localhost:8080/"
        },
        "id": "0WvV9T8jbnCZ",
        "outputId": "51419be3-6c2a-4bc1-d625-4b9cae5ca7c5"
      },
      "source": [
        "#number of dimensions\n",
        "print(c.ndim)"
      ],
      "execution_count": 40,
      "outputs": [
        {
          "output_type": "stream",
          "text": [
            "2\n"
          ],
          "name": "stdout"
        }
      ]
    },
    {
      "cell_type": "code",
      "metadata": {
        "colab": {
          "base_uri": "https://localhost:8080/"
        },
        "id": "StpWK9yX2F-f",
        "outputId": "fa31bde2-a74d-46e4-ea9f-f390aa9bc51a"
      },
      "source": [
        "#Number of elements in an array\n",
        "print(c.size)"
      ],
      "execution_count": 10,
      "outputs": [
        {
          "output_type": "stream",
          "text": [
            "20\n"
          ],
          "name": "stdout"
        }
      ]
    },
    {
      "cell_type": "code",
      "metadata": {
        "colab": {
          "base_uri": "https://localhost:8080/"
        },
        "id": "bdZiE4sT2Nc6",
        "outputId": "afef8f2b-90d2-405e-c642-b9246c74ef70"
      },
      "source": [
        "#Checking data types of the values in the array\n",
        "print(c.dtype)"
      ],
      "execution_count": 11,
      "outputs": [
        {
          "output_type": "stream",
          "text": [
            "int64\n"
          ],
          "name": "stdout"
        }
      ]
    },
    {
      "cell_type": "markdown",
      "metadata": {
        "id": "zSKFWwfg22jy"
      },
      "source": [
        "Mathematical operations on a Numpy array\n"
      ]
    },
    {
      "cell_type": "code",
      "metadata": {
        "colab": {
          "base_uri": "https://localhost:8080/"
        },
        "id": "nXYHEwRe2yRk",
        "outputId": "e2e369ad-e85f-4225-a3a3-0ce95c2985b7"
      },
      "source": [
        "list1=[1,2,3,4,5]\n",
        "list2=[6,7,8,9,10]\n",
        "\n",
        "print(list1+list2)  #COncatenate or two joins"
      ],
      "execution_count": 12,
      "outputs": [
        {
          "output_type": "stream",
          "text": [
            "[1, 2, 3, 4, 5, 6, 7, 8, 9, 10]\n"
          ],
          "name": "stdout"
        }
      ]
    },
    {
      "cell_type": "code",
      "metadata": {
        "colab": {
          "base_uri": "https://localhost:8080/"
        },
        "id": "qBSxaxnH3pLh",
        "outputId": "4a9dfbf9-23ed-43b3-fb31-0fa587166dfe"
      },
      "source": [
        "a=np.random.randint(0,10,(3,3))\n",
        "b=np.random.randint(10,20,(3,3))\n",
        "print(a)\n",
        "print(b)"
      ],
      "execution_count": 14,
      "outputs": [
        {
          "output_type": "stream",
          "text": [
            "[[2 2 9]\n",
            " [8 2 9]\n",
            " [0 2 8]]\n",
            "[[13 17 10]\n",
            " [12 12 14]\n",
            " [17 19 14]]\n"
          ],
          "name": "stdout"
        }
      ]
    },
    {
      "cell_type": "code",
      "metadata": {
        "colab": {
          "base_uri": "https://localhost:8080/"
        },
        "id": "vuYOYGwo39M_",
        "outputId": "fcb1eba2-587d-4cfd-dfc3-3756515b9ef7"
      },
      "source": [
        "print(a+b)\n",
        "print(a-b)\n",
        "print(a*b)\n",
        "print(a/b)"
      ],
      "execution_count": 15,
      "outputs": [
        {
          "output_type": "stream",
          "text": [
            "[[15 19 19]\n",
            " [20 14 23]\n",
            " [17 21 22]]\n",
            "[[-11 -15  -1]\n",
            " [ -4 -10  -5]\n",
            " [-17 -17  -6]]\n",
            "[[ 26  34  90]\n",
            " [ 96  24 126]\n",
            " [  0  38 112]]\n",
            "[[0.15384615 0.11764706 0.9       ]\n",
            " [0.66666667 0.16666667 0.64285714]\n",
            " [0.         0.10526316 0.57142857]]\n"
          ],
          "name": "stdout"
        }
      ]
    },
    {
      "cell_type": "code",
      "metadata": {
        "colab": {
          "base_uri": "https://localhost:8080/"
        },
        "id": "lY04vIaN4VcO",
        "outputId": "3c2f2aaa-c371-457b-f59a-513652af574c"
      },
      "source": [
        "#(OR)\n",
        "print(np.add(a,b))\n",
        "print(np.subtract(a,b))\n",
        "print(np.multiply(a,b))\n",
        "print(np.divide(a,b))"
      ],
      "execution_count": 17,
      "outputs": [
        {
          "output_type": "stream",
          "text": [
            "[[15 19 19]\n",
            " [20 14 23]\n",
            " [17 21 22]]\n",
            "[[-11 -15  -1]\n",
            " [ -4 -10  -5]\n",
            " [-17 -17  -6]]\n",
            "[[ 26  34  90]\n",
            " [ 96  24 126]\n",
            " [  0  38 112]]\n",
            "[[0.15384615 0.11764706 0.9       ]\n",
            " [0.66666667 0.16666667 0.64285714]\n",
            " [0.         0.10526316 0.57142857]]\n"
          ],
          "name": "stdout"
        }
      ]
    },
    {
      "cell_type": "markdown",
      "metadata": {
        "id": "RQY5aeoD4voi"
      },
      "source": [
        "Array Manipulation\n"
      ]
    },
    {
      "cell_type": "code",
      "metadata": {
        "colab": {
          "base_uri": "https://localhost:8080/"
        },
        "id": "yJQtqBcd4g1W",
        "outputId": "807a0ce5-d0b6-4a01-f85c-4e55474e24c3"
      },
      "source": [
        "array=np.random.randint(0,10,(2,3))\n",
        "print(array)\n",
        "print(array.shape)"
      ],
      "execution_count": 18,
      "outputs": [
        {
          "output_type": "stream",
          "text": [
            "[[4 8 7]\n",
            " [7 9 1]]\n",
            "(2, 3)\n"
          ],
          "name": "stdout"
        }
      ]
    },
    {
      "cell_type": "code",
      "metadata": {
        "colab": {
          "base_uri": "https://localhost:8080/"
        },
        "id": "EB17Iyw95O16",
        "outputId": "7a0e12a3-7cec-4aea-c819-e7c1baebebd2"
      },
      "source": [
        "#Transpose\n",
        "trans=np.transpose(array)\n",
        "print(trans)\n",
        "print(trans.shape)"
      ],
      "execution_count": 19,
      "outputs": [
        {
          "output_type": "stream",
          "text": [
            "[[4 7]\n",
            " [8 9]\n",
            " [7 1]]\n",
            "(3, 2)\n"
          ],
          "name": "stdout"
        }
      ]
    },
    {
      "cell_type": "code",
      "metadata": {
        "colab": {
          "base_uri": "https://localhost:8080/"
        },
        "id": "Gi7KIJt55aEy",
        "outputId": "9cb8c662-ae27-4f66-cced-79122425c836"
      },
      "source": [
        "#(OR)\n",
        "trans2=array.T\n",
        "print(trans2)\n",
        "print(trans2.shape)"
      ],
      "execution_count": 20,
      "outputs": [
        {
          "output_type": "stream",
          "text": [
            "[[4 7]\n",
            " [8 9]\n",
            " [7 1]]\n",
            "(3, 2)\n"
          ],
          "name": "stdout"
        }
      ]
    },
    {
      "cell_type": "code",
      "metadata": {
        "colab": {
          "base_uri": "https://localhost:8080/"
        },
        "id": "FkxEBjcI5w2e",
        "outputId": "e2838e58-c9d9-4d44-dbfa-af8693af8bfe"
      },
      "source": [
        "#Reshaping a array\n",
        "a=np.random.randint(0,10,(2,3))\n",
        "print(a)\n",
        "print(a.shape)"
      ],
      "execution_count": 21,
      "outputs": [
        {
          "output_type": "stream",
          "text": [
            "[[7 7 1]\n",
            " [6 9 0]]\n",
            "(2, 3)\n"
          ],
          "name": "stdout"
        }
      ]
    },
    {
      "cell_type": "code",
      "metadata": {
        "colab": {
          "base_uri": "https://localhost:8080/"
        },
        "id": "9KYE5SCO6In4",
        "outputId": "dfe099f5-af31-4fe7-f414-f2aa43a2d5a5"
      },
      "source": [
        "b=a.reshape(3,2)\n",
        "print(b)\n",
        "print(b.shape)"
      ],
      "execution_count": 22,
      "outputs": [
        {
          "output_type": "stream",
          "text": [
            "[[7 7]\n",
            " [1 6]\n",
            " [9 0]]\n",
            "(3, 2)\n"
          ],
          "name": "stdout"
        }
      ]
    },
    {
      "cell_type": "code",
      "metadata": {
        "id": "rng3CQ876SqG"
      },
      "source": [
        ""
      ],
      "execution_count": null,
      "outputs": []
    }
  ]
}